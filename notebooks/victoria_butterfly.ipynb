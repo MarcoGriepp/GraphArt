{
 "cells": [
  {
   "cell_type": "markdown",
   "id": "fe32fdbe",
   "metadata": {},
   "source": [
    "# Victoria's Butterfly Plot\n",
    "\n",
    "Parametric butterfly curve visualization."
   ]
  },
  {
   "cell_type": "code",
   "execution_count": null,
   "id": "3a69fdac",
   "metadata": {},
   "outputs": [],
   "source": [
    "import numpy as np\n",
    "import matplotlib.pyplot as plt\n",
    "import os\n",
    "os.chdir('..')\n",
    "\n",
    "from src.plots import butterfly_plot\n",
    "from src.utils.colors import victoria_colors\n",
    "\n",
    "%load_ext autoreload\n",
    "%autoreload 2"
   ]
  },
  {
   "cell_type": "markdown",
   "id": "04b39db5",
   "metadata": {},
   "source": [
    "## Color Palette"
   ]
  },
  {
   "cell_type": "code",
   "execution_count": null,
   "id": "02a00e6e",
   "metadata": {},
   "outputs": [],
   "source": [
    "from src.utils import show_colors\n",
    "\n",
    "show_colors(victoria_colors, \"Victoria's Colors\")"
   ]
  },
  {
   "cell_type": "markdown",
   "id": "17b4adc2",
   "metadata": {},
   "source": [
    "## Generate Plot"
   ]
  },
  {
   "cell_type": "code",
   "execution_count": null,
   "id": "c9684ac9",
   "metadata": {},
   "outputs": [],
   "source": [
    "butterfly_plot(\n",
    "    t_len=int(12 * np.pi),\n",
    "    step=0.001,\n",
    "    color_len=30,\n",
    "    phi_step=0,\n",
    "    line_thickness=2.5,\n",
    ")"
   ]
  },
  {
   "cell_type": "markdown",
   "id": "57a2def6",
   "metadata": {},
   "source": [
    "## Experiment with Parameters\n",
    "\n",
    "Try different color counts and scales:"
   ]
  },
  {
   "cell_type": "code",
   "execution_count": null,
   "id": "7d3beadc",
   "metadata": {},
   "outputs": [],
   "source": [
    "# More colors, thicker lines\n",
    "butterfly_plot(\n",
    "    t_len=int(15 * np.pi),\n",
    "    step=0.001,\n",
    "    color_len=50,\n",
    "    phi_step=0.01,\n",
    "    line_thickness=3,\n",
    ")"
   ]
  },
  {
   "cell_type": "markdown",
   "id": "24390ec5",
   "metadata": {},
   "source": [
    "### Understanding the Butterfly Curve\n",
    "\n",
    "The butterfly curve is a parametric equation that creates a butterfly-like shape:\n",
    "\n",
    "```\n",
    "x = sin(t) * (exp(cos(t)) - 2*cos(4t) - sin(t/12)^5)\n",
    "y = cos(t) * (exp(cos(t)) - 2*cos(4t) - sin(t/12)^5)\n",
    "```\n",
    "\n",
    "The `phi_step` parameter creates scaling variations for each layer."
   ]
  }
 ],
 "metadata": {
  "language_info": {
   "name": "python"
  }
 },
 "nbformat": 4,
 "nbformat_minor": 5
}
