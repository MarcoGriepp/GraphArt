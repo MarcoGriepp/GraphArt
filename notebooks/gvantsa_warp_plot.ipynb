{
 "cells": [
  {
   "cell_type": "markdown",
   "id": "47c95534",
   "metadata": {},
   "source": [
    "# Gvantsa's Warp Plot\n",
    "\n",
    "Warped sine wave visualization with artistic transformations."
   ]
  },
  {
   "cell_type": "code",
   "execution_count": null,
   "id": "29cc1cf5",
   "metadata": {},
   "outputs": [],
   "source": [
    "import numpy as np\n",
    "import matplotlib.pyplot as plt\n",
    "import os\n",
    "os.chdir('..')\n",
    "\n",
    "from src.plots import warp_plot\n",
    "from src.utils.colors import gvantsa_colors\n",
    "\n",
    "%load_ext autoreload\n",
    "%autoreload 2"
   ]
  },
  {
   "cell_type": "markdown",
   "id": "cab8f328",
   "metadata": {},
   "source": [
    "## Color Palette"
   ]
  },
  {
   "cell_type": "code",
   "execution_count": null,
   "id": "be7fe853",
   "metadata": {},
   "outputs": [],
   "source": [
    "from src.utils import show_colors\n",
    "\n",
    "show_colors(gvantsa_colors, \"Gvantsa's Colors\")"
   ]
  },
  {
   "cell_type": "markdown",
   "id": "f7cbf7e7",
   "metadata": {},
   "source": [
    "## Generate Plot"
   ]
  },
  {
   "cell_type": "code",
   "execution_count": null,
   "id": "acf90d51",
   "metadata": {},
   "outputs": [],
   "source": [
    "warp_plot(\n",
    "    num_lines=20,\n",
    "    x_start=-8,\n",
    "    x_end=8,\n",
    "    linewidth=17.3,\n",
    ")"
   ]
  },
  {
   "cell_type": "markdown",
   "id": "2861fc69",
   "metadata": {},
   "source": [
    "## Experiment with Parameters\n",
    "\n",
    "Try different values:"
   ]
  },
  {
   "cell_type": "code",
   "execution_count": null,
   "id": "d5d18943",
   "metadata": {},
   "outputs": [],
   "source": [
    "# Experiment with different settings\n",
    "warp_plot(\n",
    "    num_lines=30,\n",
    "    x_start=-10,\n",
    "    x_end=10,\n",
    "    linewidth=10,\n",
    ")"
   ]
  }
 ],
 "metadata": {
  "kernelspec": {
   "display_name": "Python 3",
   "language": "python",
   "name": "python3"
  },
  "language_info": {
   "codemirror_mode": {
    "name": "ipython",
    "version": 3
   },
   "file_extension": ".py",
   "mimetype": "text/x-python",
   "name": "python",
   "nbconvert_exporter": "python",
   "pygments_lexer": "ipython3",
   "version": "3.12.4"
  }
 },
 "nbformat": 4,
 "nbformat_minor": 5
}
