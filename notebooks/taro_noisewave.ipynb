{
 "cells": [
  {
   "cell_type": "markdown",
   "id": "c894d930",
   "metadata": {},
   "source": [
    "# Taro's Noisewave Plot\n",
    "\n",
    "Symmetric wave patterns with controlled noise."
   ]
  },
  {
   "cell_type": "code",
   "execution_count": null,
   "id": "d16db551",
   "metadata": {},
   "outputs": [],
   "source": [
    "import numpy as np\n",
    "import matplotlib.pyplot as plt\n",
    "import os\n",
    "os.chdir('..')\n",
    "\n",
    "\n",
    "from src.plots import noisewave_plot\n",
    "from src.utils.colors import taro_colors\n",
    "\n",
    "%load_ext autoreload\n",
    "%autoreload 2"
   ]
  },
  {
   "cell_type": "markdown",
   "id": "d887988d",
   "metadata": {},
   "source": [
    "## Color Palette"
   ]
  },
  {
   "cell_type": "code",
   "execution_count": null,
   "id": "5d43c884",
   "metadata": {},
   "outputs": [],
   "source": [
    "from src.utils import show_colors\n",
    "\n",
    "show_colors(taro_colors, \"Taro's Colors\")"
   ]
  },
  {
   "cell_type": "markdown",
   "id": "b399c9d0",
   "metadata": {},
   "source": [
    "## Generate Plot"
   ]
  },
  {
   "cell_type": "code",
   "execution_count": null,
   "id": "f9d4ab3b",
   "metadata": {},
   "outputs": [],
   "source": [
    "noisewave_plot(\n",
    "    n_lines=40,\n",
    "    dist=\"uniform\",\n",
    "    decay_rate=1.8,\n",
    "    sigma_initialisation=5,\n",
    "    x_length=20,\n",
    "    step_size=0.1,\n",
    "    one_sided=True,\n",
    "    line_thickness=4,\n",
    "    sigma_error=0.05,\n",
    ")"
   ]
  },
  {
   "cell_type": "markdown",
   "id": "fd877a2b",
   "metadata": {},
   "source": [
    "## Experiment with Parameters\n",
    "\n",
    "Try different distributions and noise levels:"
   ]
  },
  {
   "cell_type": "code",
   "execution_count": null,
   "id": "5f5f7820",
   "metadata": {},
   "outputs": [],
   "source": [
    "# Try with normal distribution\n",
    "noisewave_plot(\n",
    "    n_lines=50,\n",
    "    dist=\"normal\",\n",
    "    decay_rate=2.0,\n",
    "    sigma_initialisation=3,\n",
    "    x_length=15,\n",
    "    step_size=0.1,\n",
    "    one_sided=False,\n",
    "    line_thickness=3,\n",
    "    sigma_error=0.1,\n",
    ")"
   ]
  },
  {
   "cell_type": "markdown",
   "id": "d6792b68",
   "metadata": {},
   "source": [
    "### Available Distributions\n",
    "\n",
    "- `\"normal\"`: Gaussian distribution\n",
    "- `\"uniform\"`: Uniform distribution\n",
    "- `\"chisquare\"`: Chi-square distribution"
   ]
  }
 ],
 "metadata": {
  "language_info": {
   "name": "python"
  }
 },
 "nbformat": 4,
 "nbformat_minor": 5
}
