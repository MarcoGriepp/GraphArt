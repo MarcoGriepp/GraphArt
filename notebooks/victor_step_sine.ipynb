{
 "cells": [
  {
   "cell_type": "markdown",
   "id": "ce77d7a3",
   "metadata": {},
   "source": [
    "# Victor's Step Sine Plot\n",
    "\n",
    "Stepped random walk visualization combined with sine waves."
   ]
  },
  {
   "cell_type": "code",
   "execution_count": null,
   "id": "28b59ea5",
   "metadata": {},
   "outputs": [],
   "source": [
    "import numpy as np\n",
    "import matplotlib.pyplot as plt\n",
    "import os\n",
    "os.chdir('..')\n",
    "\n",
    "from src.plots import step_sine_plot\n",
    "from src.utils.colors import victor_colors, victor_colors_2\n",
    "\n",
    "%load_ext autoreload\n",
    "%autoreload 2"
   ]
  },
  {
   "cell_type": "markdown",
   "id": "d7913509",
   "metadata": {},
   "source": [
    "## Color Palettes"
   ]
  },
  {
   "cell_type": "code",
   "execution_count": null,
   "id": "9548a044",
   "metadata": {},
   "outputs": [],
   "source": [
    "from src.utils import show_colors\n",
    "\n",
    "show_colors(victor_colors, \"Victor's Colors (Set 1)\")\n",
    "show_colors(victor_colors_2, \"Victor's Colors (Set 2)\")"
   ]
  },
  {
   "cell_type": "markdown",
   "id": "17d0b84c",
   "metadata": {},
   "source": [
    "## Generate Plot"
   ]
  },
  {
   "cell_type": "code",
   "execution_count": null,
   "id": "a6dd7f05",
   "metadata": {},
   "outputs": [],
   "source": [
    "step_sine_plot(\n",
    "    n_lines=80,\n",
    "    dist=\"normal\",\n",
    "    x_start=np.pi / 2 + 0.75,\n",
    "    decay_rate=1,\n",
    "    sigma_initialisation=5,\n",
    "    x_length=20,\n",
    "    step_size=0.1,\n",
    "    one_sided=False,\n",
    "    line_thickness=2,\n",
    "    block_step_size=2,\n",
    "    sigma_error=15,\n",
    "    chance_0=0.1,\n",
    "    vertical=True,\n",
    "    phi_coef=0.8,\n",
    "    midsection_proportion=0.2,\n",
    ")"
   ]
  },
  {
   "cell_type": "markdown",
   "id": "44bec91a",
   "metadata": {},
   "source": [
    "## Experiment with Parameters\n",
    "\n",
    "Try different orientations and step sizes:"
   ]
  },
  {
   "cell_type": "code",
   "execution_count": null,
   "id": "9fd842ba",
   "metadata": {},
   "outputs": [],
   "source": [
    "# Horizontal orientation\n",
    "step_sine_plot(\n",
    "    n_lines=60,\n",
    "    dist=\"normal\",\n",
    "    x_start=0,\n",
    "    decay_rate=1.2,\n",
    "    sigma_initialisation=4,\n",
    "    x_length=18,\n",
    "    step_size=0.1,\n",
    "    one_sided=False,\n",
    "    line_thickness=2,\n",
    "    block_step_size=3,\n",
    "    sigma_error=10,\n",
    "    chance_0=0.2,\n",
    "    vertical=False,  # Horizontal\n",
    "    phi_coef=0.75,\n",
    "    midsection_proportion=0.15,\n",
    ")"
   ]
  },
  {
   "cell_type": "markdown",
   "id": "0674fcbf",
   "metadata": {},
   "source": [
    "### Key Parameters\n",
    "\n",
    "- `vertical`: Plot orientation (True/False)\n",
    "- `block_step_size`: Size of each step in the random walk\n",
    "- `chance_0`: Probability of no movement (creates plateaus)\n",
    "- `midsection_proportion`: Size of the transition region"
   ]
  }
 ],
 "metadata": {
  "language_info": {
   "name": "python"
  }
 },
 "nbformat": 4,
 "nbformat_minor": 5
}
