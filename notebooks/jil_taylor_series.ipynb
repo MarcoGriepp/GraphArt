{
 "cells": [
  {
   "cell_type": "markdown",
   "id": "863e1128",
   "metadata": {},
   "source": [
    "# Jil's Taylor Series Plot\n",
    "\n",
    "Visualizing Taylor series approximations of sine waves with color gradients."
   ]
  },
  {
   "cell_type": "code",
   "execution_count": null,
   "id": "506d4b79",
   "metadata": {},
   "outputs": [],
   "source": [
    "import numpy as np\n",
    "import matplotlib.pyplot as plt\n",
    "import os\n",
    "os.chdir('..')\n",
    "\n",
    "from src.plots import taylor_expansion_plot\n",
    "from src.utils.colors import jil_colors\n",
    "\n",
    "%load_ext autoreload\n",
    "%autoreload 2"
   ]
  },
  {
   "cell_type": "markdown",
   "id": "af129849",
   "metadata": {},
   "source": [
    "## Color Palette"
   ]
  },
  {
   "cell_type": "code",
   "execution_count": null,
   "id": "4febd8d2",
   "metadata": {},
   "outputs": [],
   "source": [
    "from src.utils import show_colors\n",
    "\n",
    "show_colors(jil_colors, \"Jil's Colors\")"
   ]
  },
  {
   "cell_type": "markdown",
   "id": "077d9a14",
   "metadata": {},
   "source": [
    "## Generate Plot"
   ]
  },
  {
   "cell_type": "code",
   "execution_count": null,
   "id": "d81d7a41",
   "metadata": {},
   "outputs": [],
   "source": [
    "taylor_expansion_plot(\n",
    "    n_terms=30,\n",
    "    x_start=-25,\n",
    "    x_end=25,\n",
    "    bg_color=\"#E7D7BE\",\n",
    "    line_thickness=20,\n",
    "    show_actual=True,\n",
    "    a_b=[-0.5, 10],\n",
    "    y_lim=[-5, 25],\n",
    ")"
   ]
  },
  {
   "cell_type": "markdown",
   "id": "c23ad058",
   "metadata": {},
   "source": [
    "## Experiment with Parameters\n",
    "\n",
    "Try different numbers of terms:"
   ]
  },
  {
   "cell_type": "code",
   "execution_count": null,
   "id": "8614ed1d",
   "metadata": {},
   "outputs": [],
   "source": [
    "# Try with fewer terms\n",
    "taylor_expansion_plot(\n",
    "    n_terms=10,\n",
    "    x_start=-15,\n",
    "    x_end=15,\n",
    "    bg_color=\"white\",\n",
    "    line_thickness=15,\n",
    "    show_actual=True,\n",
    "    a_b=[0, 0],\n",
    "    y_lim=[-3, 3],\n",
    ")"
   ]
  },
  {
   "cell_type": "markdown",
   "id": "85abe872",
   "metadata": {},
   "source": [
    "## Understanding Taylor Series\n",
    "\n",
    "The plot shows how adding more terms in the Taylor series expansion creates a better approximation of the sine wave."
   ]
  }
 ],
 "metadata": {
  "language_info": {
   "name": "python"
  }
 },
 "nbformat": 4,
 "nbformat_minor": 5
}
