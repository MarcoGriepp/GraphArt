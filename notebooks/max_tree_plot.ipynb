{
 "cells": [
  {
   "cell_type": "markdown",
   "id": "d4b0b65c",
   "metadata": {},
   "source": [
    "# Max's Tree Plot\n",
    "\n",
    "Fractal tree visualization with branching patterns."
   ]
  },
  {
   "cell_type": "code",
   "execution_count": null,
   "id": "de20029a",
   "metadata": {},
   "outputs": [],
   "source": [
    "import numpy as np\n",
    "import matplotlib.pyplot as plt\n",
    "import os\n",
    "os.chdir('..')\n",
    "\n",
    "\n",
    "from src.plots import tree_plot\n",
    "from src.utils.colors import max_colors, max_colors_2\n",
    "\n",
    "\n",
    "%load_ext autoreload\n",
    "%autoreload 2"
   ]
  },
  {
   "cell_type": "markdown",
   "id": "df1edc09",
   "metadata": {},
   "source": [
    "## Color Palettes"
   ]
  },
  {
   "cell_type": "code",
   "execution_count": null,
   "id": "dca0a3bd",
   "metadata": {},
   "outputs": [],
   "source": [
    "from src.utils import show_colors\n",
    "\n",
    "show_colors(max_colors, \"Max's Colors (Set 1)\")\n",
    "show_colors(max_colors_2, \"Max's Colors (Set 2)\")"
   ]
  },
  {
   "cell_type": "markdown",
   "id": "7e534227",
   "metadata": {},
   "source": [
    "## Generate Plot"
   ]
  },
  {
   "cell_type": "code",
   "execution_count": null,
   "id": "b56da541",
   "metadata": {},
   "outputs": [],
   "source": [
    "tree_plot(\n",
    "    n_lines=80,\n",
    "    x_length=15,\n",
    "    proportions=[0.36, 0, 0.64],\n",
    "    phi_base=1.05,\n",
    "    branch_segment_length=10,\n",
    "    branch_angle=np.pi / 12,\n",
    ")"
   ]
  },
  {
   "cell_type": "markdown",
   "id": "0848c610",
   "metadata": {},
   "source": [
    "## Experiment with Parameters\n",
    "\n",
    "Try different branching angles and proportions:"
   ]
  },
  {
   "cell_type": "code",
   "execution_count": null,
   "id": "f140696d",
   "metadata": {},
   "outputs": [],
   "source": [
    "# Wider branches\n",
    "tree_plot(\n",
    "    n_lines=60,\n",
    "    x_length=12,\n",
    "    proportions=[0.4, 0, 0.6],\n",
    "    phi_base=1.08,\n",
    "    branch_segment_length=8,\n",
    "    branch_angle=np.pi / 8,  # Wider angle\n",
    "    split_probability=0.8,\n",
    ")"
   ]
  }
 ],
 "metadata": {
  "language_info": {
   "name": "python"
  }
 },
 "nbformat": 4,
 "nbformat_minor": 5
}
